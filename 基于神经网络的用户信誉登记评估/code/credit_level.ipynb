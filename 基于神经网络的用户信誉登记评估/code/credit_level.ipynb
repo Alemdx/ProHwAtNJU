{
 "cells": [
  {
   "cell_type": "code",
   "execution_count": 1,
   "id": "a28b4efc-9970-4aa6-9c48-0e62832284b6",
   "metadata": {},
   "outputs": [],
   "source": [
    "import torch\n",
    "from torch.utils.data import Dataset,DataLoader \n",
    "import torch.nn as nn\n",
    "import pandas as pd\n",
    "import numpy as np\n",
    "import matplotlib.pyplot as plt\n",
    "from sklearn.utils import shuffle\n",
    "from sklearn.preprocessing import StandardScaler\n",
    "from sklearn.model_selection import train_test_split\n",
    "import time\n",
    "from sklearn.decomposition import PCA\n",
    "from sklearn.metrics import confusion_matrix\n",
    "import seaborn as sn\n",
    "from pretty_confusion_matrix import pp_matrix\n",
    "from pretty_confusion_matrix import pp_matrix_from_data"
   ]
  },
  {
   "cell_type": "code",
   "execution_count": 2,
   "id": "4c5dc4e4-b1d3-4c62-abf9-e0424b85c0b8",
   "metadata": {},
   "outputs": [],
   "source": [
    "# 读入数据\n",
    "pri_credit_info = pd.read_csv('../data/pri_credit_info_202205251503.csv')\n",
    "pri_cust_liab_info = pd.read_csv('../data/pri_cust_liab_info_202205271320.csv')\n",
    "pri_cust_asset_info = pd.read_csv('../data/pri_cust_asset_info_202205251648.csv') # 1\n",
    "pri_cust_asset_acct_info = pd.read_csv('../data/pri_cust_asset_acct_info_202205251652.csv')\n",
    "dm_v_as_djk_info = pd.read_csv('../data/dm_v_as_djk_info_202205252151.csv',low_memory=False)\n",
    "dm_v_as_djkfq_info = pd.read_csv('../data/dm_v_as_djkfq_info_202205252152.csv') # 1\n"
   ]
  },
  {
   "cell_type": "code",
   "execution_count": 3,
   "id": "6eef8ecf-51b5-49bf-9a05-ba2d635d2a08",
   "metadata": {},
   "outputs": [],
   "source": [
    "# 选出需要的特性\n",
    "pri_cust_liab_info_drop_date = pri_cust_liab_info.drop(columns=['etl_dt'])\n",
    "pri_cust_asset_acct_info_filtrated = pri_cust_asset_acct_info[['uid','bal','avg_mth','avg_year']]\n",
    "pri_cust_asset_info_filtrated = pri_cust_asset_info[['uid','sa_bal','td_bal','cd_bal']]# star可处理 todo\n",
    "dm_v_as_djk_info_filtrated = dm_v_as_djk_info[['uid','cred_limit','deposit','dlay_amt','bal','dlay_mths']]\n",
    "dm_v_as_djkfq_info_filtrated = dm_v_as_djkfq_info[['uid','total_amt','total_mths','mth_instl','instl_cnt','rem_ppl','total_fee','rem_fee','rec_fee']]\n"
   ]
  },
  {
   "cell_type": "code",
   "execution_count": 4,
   "id": "7c5229b0-5dcc-4a06-b1f4-f0a645add603",
   "metadata": {},
   "outputs": [],
   "source": [
    "# 按 uid 分类后求和，或求平均\n",
    "pri_cust_asset_info_filtrated_sum = pri_cust_asset_info_filtrated.groupby('uid').sum().reset_index()\n",
    "pri_cust_asset_acct_info_filtrated_sum = pri_cust_asset_acct_info_filtrated.groupby('uid').sum().reset_index()\n",
    "\n",
    "df_mean = pri_cust_liab_info_drop_date.groupby('uid').mean().reset_index()\n",
    "dm_v_as_djk_info_filtrated_mean = dm_v_as_djk_info_filtrated.groupby('uid').mean().reset_index()\n",
    "dm_v_as_djkfq_info_filtrated_mean = dm_v_as_djkfq_info_filtrated.groupby('uid').mean().reset_index()"
   ]
  },
  {
   "cell_type": "code",
   "execution_count": 5,
   "id": "973a5dec-d022-47b8-99d8-a98e3f02ab11",
   "metadata": {},
   "outputs": [],
   "source": [
    "# 合并表格，当表格与非pri_star_info表格连接时使用outer(外连接)，当与pri_star_info表格连接时，使用左连接，\n",
    "# 即保留所有pri_star_info，同时不允许没有pri_star_info中uid的数据作为训练集\n",
    "t1 = pd.merge(df_mean,dm_v_as_djk_info_filtrated_mean,on = 'uid',how = 'outer')\n",
    "t2 = pd.merge(t1,dm_v_as_djkfq_info_filtrated_mean,on = 'uid',how = 'outer')\n",
    "\n",
    "t3 = pd.merge(pri_cust_asset_info_filtrated_sum,pri_cust_asset_acct_info_filtrated_sum,on = 'uid',how = 'outer')\n",
    "t4 = pd.merge(t2,t3,on = 'uid',how = 'outer')"
   ]
  },
  {
   "cell_type": "code",
   "execution_count": 6,
   "id": "9dd2c8e7-f8a6-4e0d-9ac7-a339077cd638",
   "metadata": {},
   "outputs": [],
   "source": [
    "# nan => 0\n",
    "final_use_df = pd.merge(pri_credit_info,t4,on='uid',how='left').fillna(0)"
   ]
  },
  {
   "cell_type": "code",
   "execution_count": 7,
   "id": "67f410c8-7757-4df0-b372-e296dedd42f6",
   "metadata": {},
   "outputs": [
    {
     "data": {
      "text/plain": [
       "uid              object\n",
       "credit_level      int64\n",
       "all_bal         float64\n",
       "bad_bal         float64\n",
       "due_intr        float64\n",
       "norm_bal        float64\n",
       "delay_bal       float64\n",
       "cred_limit      float64\n",
       "deposit         float64\n",
       "dlay_amt        float64\n",
       "bal_x           float64\n",
       "dlay_mths       float64\n",
       "total_amt       float64\n",
       "total_mths      float64\n",
       "mth_instl       float64\n",
       "instl_cnt       float64\n",
       "rem_ppl         float64\n",
       "total_fee       float64\n",
       "rem_fee         float64\n",
       "rec_fee         float64\n",
       "sa_bal          float64\n",
       "td_bal          float64\n",
       "cd_bal          float64\n",
       "bal_y           float64\n",
       "avg_mth         float64\n",
       "avg_year        float64\n",
       "dtype: object"
      ]
     },
     "execution_count": 7,
     "metadata": {},
     "output_type": "execute_result"
    }
   ],
   "source": [
    "# 训练所用的数据名以及类型，除去（'uid', 'star_level'）\n",
    "final_use_df.dtypes"
   ]
  },
  {
   "cell_type": "code",
   "execution_count": 8,
   "id": "2def9cd4-8f5f-4b2f-88f0-d3cbe4981bd6",
   "metadata": {},
   "outputs": [
    {
     "data": {
      "image/png": "[encoded data removed]",
      "text/plain": [
       "<Figure size 432x288 with 1 Axes>"
      ]
     },
     "metadata": {
      "needs_background": "light"
     },
     "output_type": "display_data"
    }
   ],
   "source": [
    "# 数据集的分布，可以看出数据集分布不均，这对分类问题的训练不是那么友好\n",
    "credit_count = final_use_df['credit_level'].value_counts()\n",
    "credit_count.plot(kind='bar')\n",
    "plt.show()"
   ]
  },
  {
   "cell_type": "code",
   "execution_count": 9,
   "id": "5fa33be6-49a0-4a46-a086-31e764d0388b",
   "metadata": {},
   "outputs": [
    {
     "name": "stderr",
     "output_type": "stream",
     "text": [
      "C:\\Users\\zhuyize\\AppData\\Local\\Temp\\ipykernel_64252\\379968766.py:8: SettingWithCopyWarning: \n",
      "A value is trying to be set on a copy of a slice from a DataFrame.\n",
      "Try using .loc[row_indexer,col_indexer] = value instead\n",
      "\n",
      "See the caveats in the documentation: https://pandas.pydata.org/pandas-docs/stable/user_guide/indexing.html#returning-a-view-versus-a-copy\n",
      "  final_use_df_drop_uid_drop_negativeOne['credit_level'] = final_use_df_drop_uid_drop_negativeOne['credit_level'].map({35:0,50:1,60:2,70:3,85:4})\n"
     ]
    }
   ],
   "source": [
    "# 去除 uid\n",
    "final_use_df_drop_uid = final_use_df.drop(columns=['uid'])\n",
    "\n",
    "# 去除-1\n",
    "final_use_df_drop_uid_drop_negativeOne = final_use_df_drop_uid.loc[final_use_df_drop_uid['credit_level']!=-1]\n",
    "\n",
    "# 将credit_level映射到 0~4\n",
    "final_use_df_drop_uid_drop_negativeOne['credit_level'] = final_use_df_drop_uid_drop_negativeOne['credit_level'].map({35:0,50:1,60:2,70:3,85:4})\n",
    "\n",
    "# 打乱\n",
    "df_shuffled = shuffle(final_use_df_drop_uid_drop_negativeOne)"
   ]
  },
  {
   "cell_type": "code",
   "execution_count": 10,
   "id": "448090c2-dbaf-43eb-b28a-b42160eeffa8",
   "metadata": {},
   "outputs": [],
   "source": [
    "# 需要预测的部分\n",
    "scaler = StandardScaler()\n",
    "credit_need_predict = final_use_df.loc[final_use_df['credit_level']==-1]\n",
    "\n",
    "x_predict = credit_need_predict.drop(columns=['credit_level','uid']).values\n",
    "# uid\n",
    "predict_uid = credit_need_predict['uid']\n",
    "p = pd.DataFrame(predict_uid)\n",
    "\n",
    "# 归一化\n",
    "x_need_predict = scaler.fit_transform(x_predict)\n",
    "\n",
    "# 转换为pytorch需要的 tensor\n",
    "x_need_predict = torch.FloatTensor(x_need_predict)"
   ]
  },
  {
   "cell_type": "code",
   "execution_count": 11,
   "id": "79027ce4-91f9-4489-af90-3e5d5f98c2b5",
   "metadata": {},
   "outputs": [],
   "source": [
    "x = df_shuffled.drop(columns=['credit_level']).values\n",
    "y = df_shuffled['credit_level'].values"
   ]
  },
  {
   "cell_type": "code",
   "execution_count": 12,
   "id": "cc5d6132-c6de-4ebd-920c-77d47515e9ec",
   "metadata": {},
   "outputs": [],
   "source": [
    "# 数据集 3：7分割\n",
    "x_train, x_test, y_train, y_test = train_test_split(x, y, test_size=0.30, random_state=42)"
   ]
  },
  {
   "cell_type": "code",
   "execution_count": 13,
   "id": "1a441ccf-1c0e-4c04-9159-0d2bca88ff77",
   "metadata": {},
   "outputs": [],
   "source": [
    "# 归一化\n",
    "scaler = StandardScaler()\n",
    "x_train = scaler.fit_transform(x_train)\n",
    "x_test = scaler.fit_transform(x_test)"
   ]
  },
  {
   "cell_type": "code",
   "execution_count": 14,
   "id": "0473386a-649e-48e4-9af9-25fc122f441a",
   "metadata": {},
   "outputs": [],
   "source": [
    "# 转为Pytorch的tensor格式\n",
    "X_train = torch.FloatTensor(x_train)\n",
    "X_test = torch.FloatTensor(x_test)\n",
    "y_train = torch.FloatTensor(y_train)\n",
    "y_test = torch.FloatTensor(y_test)\n",
    "\n",
    "y_train = y_train.type(torch.LongTensor)\n",
    "y_test = y_test.type(torch.LongTensor)"
   ]
  },
  {
   "cell_type": "code",
   "execution_count": 45,
   "id": "b03832e9-af2b-40a0-92fd-d5f8d06c859a",
   "metadata": {},
   "outputs": [],
   "source": [
    "class NeuralNetworkClassificationModel(nn.Module):\n",
    "    def __init__(self,input_dim,output_dim):\n",
    "        super(NeuralNetworkClassificationModel,self).__init__()\n",
    "        self.input_layer    = nn.Linear(input_dim,128)\n",
    "        self.hidden_layer1  = nn.Linear(128,256)\n",
    "        self.hidden_layer2  = nn.Linear(256,512)\n",
    "        self.hidden_layer3  = nn.Linear(512,512)\n",
    "        self.hidden_layer4  = nn.Linear(512,128)\n",
    "        self.output_layer   = nn.Linear(128,output_dim)\n",
    "        self.relu = nn.ReLU()\n",
    "    \n",
    "    def forward(self,x):\n",
    "        out =  self.relu(self.input_layer(x))\n",
    "        out =  self.relu(self.hidden_layer1(out))\n",
    "        out =  self.relu(self.hidden_layer2(out))\n",
    "        out =  self.relu(self.hidden_layer3(out))\n",
    "        out =  self.relu(self.hidden_layer4(out))\n",
    "        \n",
    "        out =  self.output_layer(out)\n",
    "        return out"
   ]
  },
  {
   "cell_type": "code",
   "execution_count": 46,
   "id": "7e748bb6-aa54-4804-b9e1-568a1cd6b318",
   "metadata": {},
   "outputs": [
    {
     "name": "stdout",
     "output_type": "stream",
     "text": [
      "NeuralNetworkClassificationModel(\n",
      "  (input_layer): Linear(in_features=24, out_features=128, bias=True)\n",
      "  (hidden_layer1): Linear(in_features=128, out_features=256, bias=True)\n",
      "  (hidden_layer2): Linear(in_features=256, out_features=512, bias=True)\n",
      "  (hidden_layer3): Linear(in_features=512, out_features=512, bias=True)\n",
      "  (hidden_layer4): Linear(in_features=512, out_features=128, bias=True)\n",
      "  (output_layer): Linear(in_features=128, out_features=5, bias=True)\n",
      "  (relu): ReLU()\n",
      ")\n"
     ]
    }
   ],
   "source": [
    "# 给予模型参数，实例化\n",
    "input_dim  = X_train.shape[1]\n",
    "output_dim = 5\n",
    "model = NeuralNetworkClassificationModel(input_dim,output_dim)\n",
    "# 模型结构如下\n",
    "print(model)"
   ]
  },
  {
   "cell_type": "code",
   "execution_count": 17,
   "id": "362add27-c93c-49d6-a9eb-0892c20ec55b",
   "metadata": {},
   "outputs": [],
   "source": [
    "# 训练所需参数\n",
    "learning_rate = 0.01\n",
    "criterion = nn.CrossEntropyLoss()\n",
    "optimizer = torch.optim.Adam(model.parameters(),lr=learning_rate)"
   ]
  },
  {
   "cell_type": "code",
   "execution_count": 18,
   "id": "2cff30e3-619c-4ba3-8dc4-f0b53e10e3ad",
   "metadata": {},
   "outputs": [],
   "source": [
    "# 训练函数，存储在测试集上表现最好的模型，避免之后过拟合，模型反而不好\n",
    "def train_network(model_name,model,optimizer,criterion,X_train,y_train,X_test,y_test,num_epochs):\n",
    "    # early_stopping = EarlyStopping(patience=patience, verbose=True)\n",
    "    miniest_loss = 10000 \n",
    "    test_losses  = np.zeros(num_epochs)\n",
    "    train_losses = np.zeros(num_epochs)\n",
    "    for epoch in range(num_epochs):\n",
    "        #start time\n",
    "        since = time.time()\n",
    "        #clear out the gradients from the last step loss.backward()\n",
    "        optimizer.zero_grad()\n",
    "        \n",
    "        #forward feed\n",
    "        output_train = model(X_train)\n",
    "\n",
    "        #calculate the loss\n",
    "        loss_train = criterion(output_train, y_train)\n",
    "\n",
    "        #backward propagation: calculate gradients\n",
    "        loss_train.backward()\n",
    "\n",
    "        #update the weights\n",
    "        optimizer.step()\n",
    "\n",
    "        output_test = model(X_test)\n",
    "        loss_test = criterion(output_test,y_test)\n",
    "        \n",
    "        # 当在测试集上表现比之前所有都好的时候，存储模型\n",
    "        if loss_test<miniest_loss:\n",
    "            miniest_loss = loss_test\n",
    "            print(\"saving model ... \")\n",
    "            torch.save(model,model_name+'.pkl')\n",
    "\n",
    "        train_losses[epoch] = loss_train.item()\n",
    "        test_losses[epoch] = loss_test.item()\n",
    "        \n",
    "        # 每个epoch打印 Loss\n",
    "        time_elapsed = time.time() - since\n",
    "        print(f\"Epoch {epoch+1}/{num_epochs}, Train Loss: {loss_train.item():.4f}, Test Loss: {loss_test.item():.4f}, Time: {time_elapsed}\")\n",
    "    return train_losses,test_losses"
   ]
  },
  {
   "cell_type": "code",
   "execution_count": 19,
   "id": "60a92f6b-9e43-41d9-b05e-01ede1c926e0",
   "metadata": {},
   "outputs": [
    {
     "name": "stdout",
     "output_type": "stream",
     "text": [
      "saving model ... \n",
      "Epoch 1/100, Train Loss: 1.6135, Test Loss: 1.1485, Time: 1.0028855800628662\n",
      "Epoch 2/100, Train Loss: 1.1177, Test Loss: 1.4181, Time: 1.0207726955413818\n",
      "saving model ... \n",
      "Epoch 3/100, Train Loss: 1.3960, Test Loss: 1.1046, Time: 1.0061652660369873\n",
      "saving model ... \n",
      "Epoch 4/100, Train Loss: 1.1102, Test Loss: 1.0455, Time: 1.0283339023590088\n",
      "saving model ... \n",
      "Epoch 5/100, Train Loss: 1.0585, Test Loss: 1.0278, Time: 1.021566390991211\n",
      "saving model ... \n",
      "Epoch 6/100, Train Loss: 1.0486, Test Loss: 0.9697, Time: 1.0021064281463623\n",
      "saving model ... \n",
      "Epoch 7/100, Train Loss: 0.9830, Test Loss: 0.9551, Time: 1.016899824142456\n",
      "saving model ... \n",
      "Epoch 8/100, Train Loss: 0.9644, Test Loss: 0.9359, Time: 1.0308055877685547\n",
      "saving model ... \n",
      "Epoch 9/100, Train Loss: 0.9442, Test Loss: 0.9325, Time: 1.0205621719360352\n",
      "Epoch 10/100, Train Loss: 0.9400, Test Loss: 0.9357, Time: 1.0108041763305664\n",
      "Epoch 11/100, Train Loss: 0.9418, Test Loss: 0.9337, Time: 1.0380377769470215\n",
      "saving model ... \n",
      "Epoch 12/100, Train Loss: 0.9376, Test Loss: 0.9250, Time: 1.0363078117370605\n",
      "saving model ... \n",
      "Epoch 13/100, Train Loss: 0.9286, Test Loss: 0.9096, Time: 0.9862213134765625\n",
      "saving model ... \n",
      "Epoch 14/100, Train Loss: 0.9181, Test Loss: 0.9019, Time: 1.0038645267486572\n",
      "Epoch 15/100, Train Loss: 0.9099, Test Loss: 0.9037, Time: 1.0295579433441162\n",
      "saving model ... \n",
      "Epoch 16/100, Train Loss: 0.9073, Test Loss: 0.8918, Time: 1.0299901962280273\n",
      "saving model ... \n",
      "Epoch 17/100, Train Loss: 0.9015, Test Loss: 0.8918, Time: 1.0167820453643799\n",
      "Epoch 18/100, Train Loss: 0.8984, Test Loss: 0.8988, Time: 0.9807827472686768\n",
      "saving model ... \n",
      "Epoch 19/100, Train Loss: 0.8986, Test Loss: 0.8902, Time: 1.007561206817627\n",
      "saving model ... \n",
      "Epoch 20/100, Train Loss: 0.8940, Test Loss: 0.8866, Time: 1.0137829780578613\n",
      "Epoch 21/100, Train Loss: 0.8891, Test Loss: 0.8946, Time: 1.0138990879058838\n",
      "saving model ... \n",
      "Epoch 22/100, Train Loss: 0.8869, Test Loss: 0.8783, Time: 1.0388820171356201\n",
      "Epoch 23/100, Train Loss: 0.8863, Test Loss: 0.9042, Time: 1.0417327880859375\n",
      "Epoch 24/100, Train Loss: 0.8876, Test Loss: 0.8829, Time: 0.9871108531951904\n",
      "Epoch 25/100, Train Loss: 0.8813, Test Loss: 0.8814, Time: 1.0003716945648193\n",
      "Epoch 26/100, Train Loss: 0.8792, Test Loss: 0.9001, Time: 1.0051450729370117\n",
      "saving model ... \n",
      "Epoch 27/100, Train Loss: 0.8820, Test Loss: 0.8768, Time: 1.0309059619903564\n",
      "Epoch 28/100, Train Loss: 0.8788, Test Loss: 0.8896, Time: 1.028902530670166\n",
      "Epoch 29/100, Train Loss: 0.8753, Test Loss: 0.8897, Time: 1.025787115097046\n",
      "saving model ... \n",
      "Epoch 30/100, Train Loss: 0.8731, Test Loss: 0.8758, Time: 1.035771131515503\n",
      "Epoch 31/100, Train Loss: 0.8739, Test Loss: 0.9117, Time: 1.0018212795257568\n",
      "saving model ... \n",
      "Epoch 32/100, Train Loss: 0.8817, Test Loss: 0.8719, Time: 1.0169901847839355\n",
      "Epoch 33/100, Train Loss: 0.8733, Test Loss: 0.8878, Time: 1.0108189582824707\n",
      "Epoch 34/100, Train Loss: 0.8672, Test Loss: 0.8896, Time: 1.0079517364501953\n",
      "Epoch 35/100, Train Loss: 0.8673, Test Loss: 0.8735, Time: 0.989079475402832\n",
      "Epoch 36/100, Train Loss: 0.8673, Test Loss: 0.8881, Time: 0.9964191913604736\n",
      "Epoch 37/100, Train Loss: 0.8636, Test Loss: 0.8883, Time: 1.0000476837158203\n",
      "Epoch 38/100, Train Loss: 0.8618, Test Loss: 0.8767, Time: 0.9928836822509766\n",
      "Epoch 39/100, Train Loss: 0.8642, Test Loss: 0.9143, Time: 1.0428118705749512\n",
      "Epoch 40/100, Train Loss: 0.8746, Test Loss: 0.8739, Time: 0.9950733184814453\n",
      "Epoch 41/100, Train Loss: 0.8641, Test Loss: 0.8851, Time: 0.998833417892456\n",
      "Epoch 42/100, Train Loss: 0.8591, Test Loss: 0.8889, Time: 1.0097744464874268\n",
      "Epoch 43/100, Train Loss: 0.8600, Test Loss: 0.8751, Time: 1.0037932395935059\n",
      "Epoch 44/100, Train Loss: 0.8584, Test Loss: 0.8867, Time: 1.0139291286468506\n",
      "Epoch 45/100, Train Loss: 0.8555, Test Loss: 0.8953, Time: 0.9727797508239746\n",
      "Epoch 46/100, Train Loss: 0.8556, Test Loss: 0.8807, Time: 1.0176401138305664\n",
      "Epoch 47/100, Train Loss: 0.8583, Test Loss: 0.9170, Time: 1.022813320159912\n",
      "Epoch 48/100, Train Loss: 0.8725, Test Loss: 0.8808, Time: 0.9775574207305908\n",
      "saving model ... \n",
      "Epoch 49/100, Train Loss: 0.8565, Test Loss: 0.8708, Time: 1.0328354835510254\n",
      "Epoch 50/100, Train Loss: 0.8680, Test Loss: 0.9115, Time: 1.0019900798797607\n",
      "Epoch 51/100, Train Loss: 0.8758, Test Loss: 0.8996, Time: 1.0287914276123047\n",
      "Epoch 52/100, Train Loss: 0.8676, Test Loss: 0.8722, Time: 1.036999225616455\n",
      "saving model ... \n",
      "Epoch 53/100, Train Loss: 0.8630, Test Loss: 0.8651, Time: 1.0043089389801025\n",
      "Epoch 54/100, Train Loss: 0.8690, Test Loss: 0.8875, Time: 0.9998016357421875\n",
      "Epoch 55/100, Train Loss: 0.8562, Test Loss: 0.9162, Time: 0.9987990856170654\n",
      "Epoch 56/100, Train Loss: 0.8691, Test Loss: 0.8877, Time: 0.9646608829498291\n",
      "saving model ... \n",
      "Epoch 57/100, Train Loss: 0.8550, Test Loss: 0.8637, Time: 1.0137755870819092\n",
      "Epoch 58/100, Train Loss: 0.8716, Test Loss: 0.8994, Time: 0.9978032112121582\n",
      "Epoch 59/100, Train Loss: 0.8616, Test Loss: 0.9086, Time: 1.0398147106170654\n",
      "Epoch 60/100, Train Loss: 0.8726, Test Loss: 0.8869, Time: 0.9953527450561523\n",
      "Epoch 61/100, Train Loss: 0.8649, Test Loss: 0.8765, Time: 0.9957880973815918\n",
      "Epoch 62/100, Train Loss: 0.8713, Test Loss: 0.8744, Time: 0.9971604347229004\n",
      "Epoch 63/100, Train Loss: 0.8685, Test Loss: 0.8839, Time: 1.0153117179870605\n",
      "Epoch 64/100, Train Loss: 0.8627, Test Loss: 0.8986, Time: 0.9949984550476074\n",
      "Epoch 65/100, Train Loss: 0.8652, Test Loss: 0.8884, Time: 1.0238230228424072\n",
      "Epoch 66/100, Train Loss: 0.8601, Test Loss: 0.8733, Time: 1.0255098342895508\n",
      "Epoch 67/100, Train Loss: 0.8610, Test Loss: 0.8713, Time: 0.9777865409851074\n",
      "Epoch 68/100, Train Loss: 0.8624, Test Loss: 0.8835, Time: 0.9876511096954346\n",
      "Epoch 69/100, Train Loss: 0.8575, Test Loss: 0.9046, Time: 1.0177891254425049\n",
      "Epoch 70/100, Train Loss: 0.8596, Test Loss: 0.9016, Time: 1.0338866710662842\n",
      "Epoch 71/100, Train Loss: 0.8570, Test Loss: 0.8850, Time: 1.0438086986541748\n",
      "Epoch 72/100, Train Loss: 0.8560, Test Loss: 0.8826, Time: 1.0238142013549805\n",
      "Epoch 73/100, Train Loss: 0.8558, Test Loss: 0.8971, Time: 0.9993178844451904\n",
      "Epoch 74/100, Train Loss: 0.8532, Test Loss: 0.9065, Time: 1.0427038669586182\n",
      "Epoch 75/100, Train Loss: 0.8535, Test Loss: 0.8951, Time: 1.0177900791168213\n",
      "Epoch 76/100, Train Loss: 0.8507, Test Loss: 0.8851, Time: 1.006629467010498\n",
      "Epoch 77/100, Train Loss: 0.8521, Test Loss: 0.8970, Time: 1.0101795196533203\n",
      "Epoch 78/100, Train Loss: 0.8497, Test Loss: 0.9066, Time: 0.9763674736022949\n",
      "Epoch 79/100, Train Loss: 0.8493, Test Loss: 0.9003, Time: 0.9928858280181885\n",
      "Epoch 80/100, Train Loss: 0.8474, Test Loss: 0.8990, Time: 1.0424468517303467\n",
      "Epoch 81/100, Train Loss: 0.8482, Test Loss: 0.9151, Time: 1.059337854385376\n",
      "Epoch 82/100, Train Loss: 0.8480, Test Loss: 0.9069, Time: 1.001666784286499\n",
      "Epoch 83/100, Train Loss: 0.8449, Test Loss: 0.9014, Time: 1.0362920761108398\n",
      "Epoch 84/100, Train Loss: 0.8458, Test Loss: 0.9268, Time: 1.0001814365386963\n",
      "Epoch 85/100, Train Loss: 0.8521, Test Loss: 0.8971, Time: 1.0527968406677246\n",
      "Epoch 86/100, Train Loss: 0.8516, Test Loss: 0.9286, Time: 1.029280185699463\n",
      "Epoch 87/100, Train Loss: 0.8548, Test Loss: 0.9075, Time: 1.0451469421386719\n",
      "Epoch 88/100, Train Loss: 0.8431, Test Loss: 0.8863, Time: 1.0052385330200195\n",
      "Epoch 89/100, Train Loss: 0.8587, Test Loss: 0.9345, Time: 0.9987869262695312\n",
      "Epoch 90/100, Train Loss: 0.8704, Test Loss: 0.9192, Time: 1.0280389785766602\n",
      "Epoch 91/100, Train Loss: 0.8630, Test Loss: 0.8888, Time: 1.0033636093139648\n",
      "Epoch 92/100, Train Loss: 0.8542, Test Loss: 0.8744, Time: 1.0032322406768799\n",
      "Epoch 93/100, Train Loss: 0.8660, Test Loss: 0.8857, Time: 0.9997973442077637\n",
      "Epoch 94/100, Train Loss: 0.8500, Test Loss: 0.9150, Time: 1.0016703605651855\n",
      "Epoch 95/100, Train Loss: 0.8560, Test Loss: 0.9211, Time: 1.0308218002319336\n",
      "Epoch 96/100, Train Loss: 0.8533, Test Loss: 0.8951, Time: 1.0003373622894287\n",
      "Epoch 97/100, Train Loss: 0.8491, Test Loss: 0.8831, Time: 1.0507118701934814\n",
      "Epoch 98/100, Train Loss: 0.8567, Test Loss: 0.9082, Time: 1.0289421081542969\n",
      "Epoch 99/100, Train Loss: 0.8469, Test Loss: 0.9237, Time: 1.0167911052703857\n",
      "Epoch 100/100, Train Loss: 0.8542, Test Loss: 0.9100, Time: 1.0251662731170654\n"
     ]
    }
   ],
   "source": [
    "# 训练 70 epoch\n",
    "num_epochs = 100\n",
    "# 开始训练\n",
    "train_losses , test_losses = train_network(\"credit_level_model\",model,optimizer,criterion,X_train,y_train,X_test,y_test,num_epochs)"
   ]
  },
  {
   "cell_type": "code",
   "execution_count": 20,
   "id": "008fe7a7-8975-4ab9-830d-6eb2d7b18b61",
   "metadata": {
    "tags": []
   },
   "outputs": [
    {
     "data": {
      "image/png": "[encoded data removed]",
      "text/plain": [
       "<Figure size 720x720 with 1 Axes>"
      ]
     },
     "metadata": {
      "needs_background": "light"
     },
     "output_type": "display_data"
    }
   ],
   "source": [
    "# 绘制训练loss曲线\n",
    "plt.figure(figsize=(10,10))\n",
    "plt.plot(train_losses, label='train loss')\n",
    "plt.plot(test_losses, label='test loss')\n",
    "plt.legend()\n",
    "plt.show()"
   ]
  },
  {
   "cell_type": "code",
   "execution_count": 23,
   "id": "948dc20a-6fb6-4a63-af98-6f1262bae02b",
   "metadata": {},
   "outputs": [],
   "source": [
    "# 加载在测试集上表现最好的模型\n",
    "model = torch.load('credit_level_model.pkl')"
   ]
  },
  {
   "cell_type": "code",
   "execution_count": 24,
   "id": "374cea31-3cc6-4962-8ec8-876a381128f5",
   "metadata": {},
   "outputs": [],
   "source": [
    "# 获取模型预测结果，用于计算准确率\n",
    "predictions_train = []\n",
    "predictions_test =  []\n",
    "with torch.no_grad():\n",
    "    predictions_train = model(X_train)\n",
    "    predictions_test = model(X_test)"
   ]
  },
  {
   "cell_type": "code",
   "execution_count": 25,
   "id": "1c281b79-0ecc-402d-8c5c-27f339386c4c",
   "metadata": {},
   "outputs": [],
   "source": [
    "# 计算准确率的函数\n",
    "def get_accuracy_multiclass(pred_arr,original_arr):\n",
    "    if len(pred_arr)!=len(original_arr):\n",
    "        return False\n",
    "    pred_arr = pred_arr.numpy()\n",
    "    original_arr = original_arr.numpy()\n",
    "    final_pred= []\n",
    "    \n",
    "    # 获取pred_arr中的最大值，作为结果\n",
    "    for i in range(len(pred_arr)):\n",
    "        final_pred.append(np.argmax(pred_arr[i]))\n",
    "    final_pred = np.array(final_pred)\n",
    "    count = 0\n",
    "    \n",
    "    # 在原始数据和预测数据之间对比\n",
    "    for i in range(len(original_arr)):\n",
    "        if final_pred[i] == original_arr[i]:\n",
    "            count+=1\n",
    "    return count/len(final_pred)"
   ]
  },
  {
   "cell_type": "code",
   "execution_count": 26,
   "id": "1ffb6777-fda7-41bd-bd59-45e112ac22cb",
   "metadata": {},
   "outputs": [],
   "source": [
    "# 计算准确率\n",
    "train_acc = get_accuracy_multiclass(predictions_train,y_train)\n",
    "test_acc  = get_accuracy_multiclass(predictions_test,y_test)"
   ]
  },
  {
   "cell_type": "code",
   "execution_count": 27,
   "id": "ee4f868b-e50d-45fc-93d2-8b70091dca00",
   "metadata": {},
   "outputs": [
    {
     "name": "stdout",
     "output_type": "stream",
     "text": [
      "Training Accuracy: 62.12\n",
      "Test Accuracy: 62.624\n"
     ]
    }
   ],
   "source": [
    "# 打印准确率\n",
    "print(f\"Training Accuracy: {round(train_acc*100,3)}\")\n",
    "print(f\"Test Accuracy: {round(test_acc*100,3)}\")  "
   ]
  },
  {
   "cell_type": "code",
   "execution_count": 28,
   "id": "82388681-499f-4762-81ca-914623876bbc",
   "metadata": {},
   "outputs": [],
   "source": [
    "# 绘制混淆矩阵\n",
    "final_pred= []\n",
    "pre = model(X_train).detach().numpy()\n",
    "for i in range(len(pre)):\n",
    "    final_pred.append(np.argmax(pre[i]))\n",
    "    \n",
    "ori = y_train.detach().numpy()\n",
    "np_final_pred = np.asarray(final_pred)"
   ]
  },
  {
   "cell_type": "code",
   "execution_count": 31,
   "id": "28d1133b-e2fa-4d42-9c03-45fbd9b74676",
   "metadata": {},
   "outputs": [],
   "source": [
    "# 之前讲 1~9 映射到 0~8 ,所以label为这样，之后答应时调整\n",
    "matrix = confusion_matrix(ori,np_final_pred,labels=[0,1,2,3,4])"
   ]
  },
  {
   "cell_type": "code",
   "execution_count": 32,
   "id": "048a2c0f-636b-4b0f-af0b-3a26b3dc143e",
   "metadata": {},
   "outputs": [
    {
     "data": {
      "text/plain": [
       "<AxesSubplot:>"
      ]
     },
     "execution_count": 32,
     "metadata": {},
     "output_type": "execute_result"
    },
    {
     "data": {
      "image/png": "[encoded data removed]",
      "text/plain": [
       "<Figure size 720x504 with 2 Axes>"
      ]
     },
     "metadata": {
      "needs_background": "light"
     },
     "output_type": "display_data"
    }
   ],
   "source": [
    "df_cm = pd.DataFrame(matrix, index = [i for i in [35,50,60,70,85]],\n",
    "                  columns = [i for i in  [35,50,60,70,85]])\n",
    "plt.figure(figsize = (10,7))\n",
    "sn.heatmap(df_cm, annot=True,cmap='Oranges')"
   ]
  },
  {
   "cell_type": "code",
   "execution_count": 35,
   "id": "1ebf07c2-9012-40d9-b706-84d467ef9126",
   "metadata": {},
   "outputs": [
    {
     "data": {
      "image/png": "[encoded data removed]",
      "text/plain": [
       "<Figure size 648x648 with 1 Axes>"
      ]
     },
     "metadata": {
      "needs_background": "light"
     },
     "output_type": "display_data"
    }
   ],
   "source": [
    "pp_matrix_from_data(ori, np_final_pred)"
   ]
  },
  {
   "cell_type": "code",
   "execution_count": 36,
   "id": "54ea9342-061d-4a61-9a9f-de0e69862349",
   "metadata": {},
   "outputs": [],
   "source": [
    "ans= []\n",
    "pre = model(x_need_predict).detach().numpy()\n",
    "for i in range(len(pre)):\n",
    "    ans.append(np.argmax(pre[i]))"
   ]
  },
  {
   "cell_type": "code",
   "execution_count": 37,
   "id": "8ab96e60-764f-47b9-97fd-dac08001868d",
   "metadata": {},
   "outputs": [],
   "source": [
    "ans= []\n",
    "pre = model(x_need_predict).detach().numpy()\n",
    "for i in range(len(pre)):\n",
    "    ans.append(np.argmax(pre[i]))"
   ]
  },
  {
   "cell_type": "code",
   "execution_count": 38,
   "id": "3dce8946-28f8-438f-ae58-e153ccc058fa",
   "metadata": {},
   "outputs": [],
   "source": [
    "# 0~4 映射回 原来\n",
    "for i,k in enumerate(ans):\n",
    "        if k == 0:\n",
    "            ans[i] = 35\n",
    "        elif k == 1:\n",
    "            ans[i] = 50\n",
    "        elif k == 2:\n",
    "            ans[i] = 60\n",
    "        elif k == 3:\n",
    "            ans[i] = 70\n",
    "        elif k == 4:\n",
    "            ans[i] = 85"
   ]
  },
  {
   "cell_type": "code",
   "execution_count": 39,
   "id": "e80d2c9a-7305-45ba-90d1-d9bb9b092ca8",
   "metadata": {},
   "outputs": [],
   "source": [
    "ans_pd = pd.DataFrame(ans)"
   ]
  },
  {
   "cell_type": "code",
   "execution_count": 40,
   "id": "bcfe8ddf-6dcb-408b-b622-ac14a16ed71f",
   "metadata": {},
   "outputs": [],
   "source": [
    "p = p.reset_index(drop=True)"
   ]
  },
  {
   "cell_type": "code",
   "execution_count": 41,
   "id": "0e1016cd-c160-4f1d-8400-13346ed5b42c",
   "metadata": {},
   "outputs": [
    {
     "data": {
      "text/html": [
       "<div>\n",
       "<style scoped>\n",
       "    .dataframe tbody tr th:only-of-type {\n",
       "        vertical-align: middle;\n",
       "    }\n",
       "\n",
       "    .dataframe tbody tr th {\n",
       "        vertical-align: top;\n",
       "    }\n",
       "\n",
       "    .dataframe thead th {\n",
       "        text-align: right;\n",
       "    }\n",
       "</style>\n",
       "<table border=\"1\" class=\"dataframe\">\n",
       "  <thead>\n",
       "    <tr style=\"text-align: right;\">\n",
       "      <th></th>\n",
       "      <th>0</th>\n",
       "    </tr>\n",
       "  </thead>\n",
       "  <tbody>\n",
       "    <tr>\n",
       "      <th>0</th>\n",
       "      <td>60</td>\n",
       "    </tr>\n",
       "    <tr>\n",
       "      <th>1</th>\n",
       "      <td>70</td>\n",
       "    </tr>\n",
       "    <tr>\n",
       "      <th>2</th>\n",
       "      <td>70</td>\n",
       "    </tr>\n",
       "    <tr>\n",
       "      <th>3</th>\n",
       "      <td>60</td>\n",
       "    </tr>\n",
       "    <tr>\n",
       "      <th>4</th>\n",
       "      <td>60</td>\n",
       "    </tr>\n",
       "    <tr>\n",
       "      <th>...</th>\n",
       "      <td>...</td>\n",
       "    </tr>\n",
       "    <tr>\n",
       "      <th>7797</th>\n",
       "      <td>60</td>\n",
       "    </tr>\n",
       "    <tr>\n",
       "      <th>7798</th>\n",
       "      <td>60</td>\n",
       "    </tr>\n",
       "    <tr>\n",
       "      <th>7799</th>\n",
       "      <td>60</td>\n",
       "    </tr>\n",
       "    <tr>\n",
       "      <th>7800</th>\n",
       "      <td>60</td>\n",
       "    </tr>\n",
       "    <tr>\n",
       "      <th>7801</th>\n",
       "      <td>60</td>\n",
       "    </tr>\n",
       "  </tbody>\n",
       "</table>\n",
       "<p>7802 rows × 1 columns</p>\n",
       "</div>"
      ],
      "text/plain": [
       "       0\n",
       "0     60\n",
       "1     70\n",
       "2     70\n",
       "3     60\n",
       "4     60\n",
       "...   ..\n",
       "7797  60\n",
       "7798  60\n",
       "7799  60\n",
       "7800  60\n",
       "7801  60\n",
       "\n",
       "[7802 rows x 1 columns]"
      ]
     },
     "execution_count": 41,
     "metadata": {},
     "output_type": "execute_result"
    }
   ],
   "source": [
    "ans_pd"
   ]
  },
  {
   "cell_type": "code",
   "execution_count": 42,
   "id": "bceb0bf3-3928-4fc6-91f5-29ad957c3a30",
   "metadata": {},
   "outputs": [],
   "source": [
    "# 将uid和预测结果合并\n",
    "export_csv = pd.concat([p,ans_pd],axis=1)\n",
    "export_csv.columns=['uid','star_level']"
   ]
  },
  {
   "cell_type": "code",
   "execution_count": 47,
   "id": "568ac0d6-b42d-4c5b-b6c3-a4df8c17bd43",
   "metadata": {},
   "outputs": [],
   "source": [
    "export_csv.to_csv('credit_ans.csv')"
   ]
  },
  {
   "cell_type": "code",
   "execution_count": 48,
   "id": "e93e6305-2375-4ec9-8ea8-9629b6e733ef",
   "metadata": {},
   "outputs": [
    {
     "data": {
      "text/html": [
       "<div>\n",
       "<style scoped>\n",
       "    .dataframe tbody tr th:only-of-type {\n",
       "        vertical-align: middle;\n",
       "    }\n",
       "\n",
       "    .dataframe tbody tr th {\n",
       "        vertical-align: top;\n",
       "    }\n",
       "\n",
       "    .dataframe thead th {\n",
       "        text-align: right;\n",
       "    }\n",
       "</style>\n",
       "<table border=\"1\" class=\"dataframe\">\n",
       "  <thead>\n",
       "    <tr style=\"text-align: right;\">\n",
       "      <th></th>\n",
       "      <th>uid</th>\n",
       "      <th>star_level</th>\n",
       "    </tr>\n",
       "  </thead>\n",
       "  <tbody>\n",
       "    <tr>\n",
       "      <th>0</th>\n",
       "      <td>320928196812222985</td>\n",
       "      <td>60</td>\n",
       "    </tr>\n",
       "    <tr>\n",
       "      <th>1</th>\n",
       "      <td>320926196802238577</td>\n",
       "      <td>70</td>\n",
       "    </tr>\n",
       "    <tr>\n",
       "      <th>2</th>\n",
       "      <td>320926196709134765</td>\n",
       "      <td>70</td>\n",
       "    </tr>\n",
       "    <tr>\n",
       "      <th>3</th>\n",
       "      <td>330723198111241671</td>\n",
       "      <td>60</td>\n",
       "    </tr>\n",
       "    <tr>\n",
       "      <th>4</th>\n",
       "      <td>320911198001191398</td>\n",
       "      <td>60</td>\n",
       "    </tr>\n",
       "    <tr>\n",
       "      <th>...</th>\n",
       "      <td>...</td>\n",
       "      <td>...</td>\n",
       "    </tr>\n",
       "    <tr>\n",
       "      <th>7797</th>\n",
       "      <td>320911198310280773</td>\n",
       "      <td>60</td>\n",
       "    </tr>\n",
       "    <tr>\n",
       "      <th>7798</th>\n",
       "      <td>320982198308230393</td>\n",
       "      <td>60</td>\n",
       "    </tr>\n",
       "    <tr>\n",
       "      <th>7799</th>\n",
       "      <td>320926197607270568</td>\n",
       "      <td>60</td>\n",
       "    </tr>\n",
       "    <tr>\n",
       "      <th>7800</th>\n",
       "      <td>330624198810279362</td>\n",
       "      <td>60</td>\n",
       "    </tr>\n",
       "    <tr>\n",
       "      <th>7801</th>\n",
       "      <td>320911196304262385</td>\n",
       "      <td>60</td>\n",
       "    </tr>\n",
       "  </tbody>\n",
       "</table>\n",
       "<p>7802 rows × 2 columns</p>\n",
       "</div>"
      ],
      "text/plain": [
       "                     uid  star_level\n",
       "0     320928196812222985          60\n",
       "1     320926196802238577          70\n",
       "2     320926196709134765          70\n",
       "3     330723198111241671          60\n",
       "4     320911198001191398          60\n",
       "...                  ...         ...\n",
       "7797  320911198310280773          60\n",
       "7798  320982198308230393          60\n",
       "7799  320926197607270568          60\n",
       "7800  330624198810279362          60\n",
       "7801  320911196304262385          60\n",
       "\n",
       "[7802 rows x 2 columns]"
      ]
     },
     "execution_count": 48,
     "metadata": {},
     "output_type": "execute_result"
    }
   ],
   "source": [
    "export_csv"
   ]
  },
  {
   "cell_type": "code",
   "execution_count": null,
   "id": "6efe0e32-90fe-42c5-babd-0d94bcbd1099",
   "metadata": {},
   "outputs": [],
   "source": []
  }
 ],
 "metadata": {
  "kernelspec": {
   "display_name": "Python 3 (ipykernel)",
   "language": "python",
   "name": "python3"
  },
  "language_info": {
   "codemirror_mode": {
    "name": "ipython",
    "version": 3
   },
   "file_extension": ".py",
   "mimetype": "text/x-python",
   "name": "python",
   "nbconvert_exporter": "python",
   "pygments_lexer": "ipython3",
   "version": "3.10.4"
  }
 },
 "nbformat": 4,
 "nbformat_minor": 5
}
